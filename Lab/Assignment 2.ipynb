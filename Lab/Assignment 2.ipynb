{
 "cells": [
  {
   "cell_type": "code",
   "execution_count": 1,
   "metadata": {},
   "outputs": [],
   "source": [
    "Lawyers = read.csv(\"Lawyers.csv\", header = TRUE)"
   ]
  },
  {
   "cell_type": "code",
   "execution_count": 2,
   "metadata": {},
   "outputs": [
    {
     "name": "stdout",
     "output_type": "stream",
     "text": [
      "'data.frame':\t71 obs. of  7 variables:\n",
      " $ Seniority: Factor w/ 2 levels \"Associate\",\"Partner\": 2 2 2 2 2 2 2 2 2 2 ...\n",
      " $ Gender   : Factor w/ 2 levels \"Female\",\"Male\": 2 2 2 2 2 2 2 2 2 2 ...\n",
      " $ Office   : Factor w/ 3 levels \"Boston\",\"Harvard\",..: 1 1 2 1 2 2 2 1 1 1 ...\n",
      " $ Years    : int  31 32 13 31 31 29 29 28 25 25 ...\n",
      " $ Age      : int  64 62 67 59 59 55 63 53 53 53 ...\n",
      " $ Practice : Factor w/ 2 levels \"Corporate\",\"Litigation\": 2 1 2 1 2 2 1 2 1 1 ...\n",
      " $ School   : Factor w/ 3 levels \"Harvard or Yale\",..: 1 1 1 2 3 1 2 2 1 2 ...\n"
     ]
    }
   ],
   "source": [
    "str(Lawyers)"
   ]
  },
  {
   "cell_type": "code",
   "execution_count": 3,
   "metadata": {},
   "outputs": [
    {
     "data": {
      "text/html": [
       "<table>\n",
       "<thead><tr><th scope=col>Seniority</th><th scope=col>Gender</th><th scope=col>Office</th><th scope=col>Years</th><th scope=col>Age</th><th scope=col>Practice</th><th scope=col>School</th></tr></thead>\n",
       "<tbody>\n",
       "\t<tr><td>Partner                  </td><td>Male                     </td><td>Boston                   </td><td>31                       </td><td>64                       </td><td>Litigation               </td><td>Harvard or Yale          </td></tr>\n",
       "\t<tr><td>Partner                  </td><td>Male                     </td><td>Boston                   </td><td>32                       </td><td>62                       </td><td>Corporate                </td><td>Harvard or Yale          </td></tr>\n",
       "\t<tr><td>Partner                  </td><td>Male                     </td><td>Harvard                  </td><td>13                       </td><td>67                       </td><td>Litigation               </td><td>Harvard or Yale          </td></tr>\n",
       "\t<tr><td>Partner                  </td><td>Male                     </td><td>Boston                   </td><td>31                       </td><td>59                       </td><td>Corporate                </td><td>Other                    </td></tr>\n",
       "\t<tr><td>Partner                  </td><td>Male                     </td><td>Harvard                  </td><td>31                       </td><td>59                       </td><td>Litigation               </td><td>University of Connecticut</td></tr>\n",
       "\t<tr><td>Partner                  </td><td>Male                     </td><td>Harvard                  </td><td>29                       </td><td>55                       </td><td>Litigation               </td><td>Harvard or Yale          </td></tr>\n",
       "</tbody>\n",
       "</table>\n"
      ],
      "text/latex": [
       "\\begin{tabular}{r|lllllll}\n",
       " Seniority & Gender & Office & Years & Age & Practice & School\\\\\n",
       "\\hline\n",
       "\t Partner                   & Male                      & Boston                    & 31                        & 64                        & Litigation                & Harvard or Yale          \\\\\n",
       "\t Partner                   & Male                      & Boston                    & 32                        & 62                        & Corporate                 & Harvard or Yale          \\\\\n",
       "\t Partner                   & Male                      & Harvard                   & 13                        & 67                        & Litigation                & Harvard or Yale          \\\\\n",
       "\t Partner                   & Male                      & Boston                    & 31                        & 59                        & Corporate                 & Other                    \\\\\n",
       "\t Partner                   & Male                      & Harvard                   & 31                        & 59                        & Litigation                & University of Connecticut\\\\\n",
       "\t Partner                   & Male                      & Harvard                   & 29                        & 55                        & Litigation                & Harvard or Yale          \\\\\n",
       "\\end{tabular}\n"
      ],
      "text/markdown": [
       "\n",
       "Seniority | Gender | Office | Years | Age | Practice | School | \n",
       "|---|---|---|---|---|---|\n",
       "| Partner                   | Male                      | Boston                    | 31                        | 64                        | Litigation                | Harvard or Yale           | \n",
       "| Partner                   | Male                      | Boston                    | 32                        | 62                        | Corporate                 | Harvard or Yale           | \n",
       "| Partner                   | Male                      | Harvard                   | 13                        | 67                        | Litigation                | Harvard or Yale           | \n",
       "| Partner                   | Male                      | Boston                    | 31                        | 59                        | Corporate                 | Other                     | \n",
       "| Partner                   | Male                      | Harvard                   | 31                        | 59                        | Litigation                | University of Connecticut | \n",
       "| Partner                   | Male                      | Harvard                   | 29                        | 55                        | Litigation                | Harvard or Yale           | \n",
       "\n",
       "\n"
      ],
      "text/plain": [
       "  Seniority Gender Office  Years Age Practice   School                   \n",
       "1 Partner   Male   Boston  31    64  Litigation Harvard or Yale          \n",
       "2 Partner   Male   Boston  32    62  Corporate  Harvard or Yale          \n",
       "3 Partner   Male   Harvard 13    67  Litigation Harvard or Yale          \n",
       "4 Partner   Male   Boston  31    59  Corporate  Other                    \n",
       "5 Partner   Male   Harvard 31    59  Litigation University of Connecticut\n",
       "6 Partner   Male   Harvard 29    55  Litigation Harvard or Yale          "
      ]
     },
     "metadata": {},
     "output_type": "display_data"
    }
   ],
   "source": [
    "head(Lawyers)"
   ]
  },
  {
   "cell_type": "markdown",
   "metadata": {},
   "source": [
    "## Load the lawyers’ data into R. What proportion of the lawyers practices litigation law? (Give your answer to 2 decimal places.)"
   ]
  },
  {
   "cell_type": "code",
   "execution_count": 5,
   "metadata": {},
   "outputs": [],
   "source": [
    "litPract <- subset(Lawyers, Practice=='Litigation')"
   ]
  },
  {
   "cell_type": "raw",
   "metadata": {},
   "source": [
    "head(litPract)"
   ]
  },
  {
   "cell_type": "code",
   "execution_count": null,
   "metadata": {},
   "outputs": [],
   "source": [
    "## Use the aggregate function to compute the average age of lawyers who practice\n",
    "corporate law and of lawyers who practice litigation law, across the different levels\n",
    "of seniority. Label the columns of the resulting data frame appropriately."
   ]
  },
  {
   "cell_type": "code",
   "execution_count": 8,
   "metadata": {},
   "outputs": [],
   "source": [
    "# Calculate mean and standard deviation of days absent by learner status and sex using aggregate\n",
    "Avg_Age<-aggregate(Lawyers$Age, list(Lawyers$Practice, Lawyers$Seniority), mean)\n",
    "colnames(Avg_Age) <- c('Practice', 'Seniority', 'Average_Age')\n",
    "Avg_Age"
   ]
  },
  {
   "cell_type": "code",
   "execution_count": 9,
   "metadata": {},
   "outputs": [],
   "source": [
    "colnames(Avg_Age) <- c('Practice', 'Seniority', 'Average_Age')"
   ]
  },
  {
   "cell_type": "code",
   "execution_count": 10,
   "metadata": {
    "scrolled": true
   },
   "outputs": [
    {
     "data": {
      "text/html": [
       "<table>\n",
       "<thead><tr><th scope=col>Practice</th><th scope=col>Seniority</th><th scope=col>Average_Age</th></tr></thead>\n",
       "<tbody>\n",
       "\t<tr><td>Corporate </td><td>Associate </td><td>36.71429  </td></tr>\n",
       "\t<tr><td>Litigation</td><td>Associate </td><td>34.61905  </td></tr>\n",
       "\t<tr><td>Corporate </td><td>Partner   </td><td>48.50000  </td></tr>\n",
       "\t<tr><td>Litigation</td><td>Partner   </td><td>47.70000  </td></tr>\n",
       "</tbody>\n",
       "</table>\n"
      ],
      "text/latex": [
       "\\begin{tabular}{r|lll}\n",
       " Practice & Seniority & Average\\_Age\\\\\n",
       "\\hline\n",
       "\t Corporate  & Associate  & 36.71429  \\\\\n",
       "\t Litigation & Associate  & 34.61905  \\\\\n",
       "\t Corporate  & Partner    & 48.50000  \\\\\n",
       "\t Litigation & Partner    & 47.70000  \\\\\n",
       "\\end{tabular}\n"
      ],
      "text/markdown": [
       "\n",
       "Practice | Seniority | Average_Age | \n",
       "|---|---|---|---|\n",
       "| Corporate  | Associate  | 36.71429   | \n",
       "| Litigation | Associate  | 34.61905   | \n",
       "| Corporate  | Partner    | 48.50000   | \n",
       "| Litigation | Partner    | 47.70000   | \n",
       "\n",
       "\n"
      ],
      "text/plain": [
       "  Practice   Seniority Average_Age\n",
       "1 Corporate  Associate 36.71429   \n",
       "2 Litigation Associate 34.61905   \n",
       "3 Corporate  Partner   48.50000   \n",
       "4 Litigation Partner   47.70000   "
      ]
     },
     "metadata": {},
     "output_type": "display_data"
    }
   ],
   "source": [
    "Avg_Age"
   ]
  },
  {
   "cell_type": "code",
   "execution_count": 11,
   "metadata": {},
   "outputs": [],
   "source": [
    "Off_Age<-Lawyers[,c(\"Office\",\"Age\")]\n",
    "YMA_Office<-tapply(Off_Age$Age, Off_Age$Office, median)"
   ]
  },
  {
   "cell_type": "code",
   "execution_count": null,
   "metadata": {},
   "outputs": [],
   "source": []
  },
  {
   "cell_type": "code",
   "execution_count": null,
   "metadata": {},
   "outputs": [],
   "source": []
  },
  {
   "cell_type": "code",
   "execution_count": null,
   "metadata": {},
   "outputs": [],
   "source": []
  }
 ],
 "metadata": {
  "kernelspec": {
   "display_name": "R",
   "language": "R",
   "name": "ir"
  },
  "language_info": {
   "codemirror_mode": "r",
   "file_extension": ".r",
   "mimetype": "text/x-r-source",
   "name": "R",
   "pygments_lexer": "r",
   "version": "3.5.1"
  }
 },
 "nbformat": 4,
 "nbformat_minor": 2
}
