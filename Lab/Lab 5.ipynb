{
 "cells": [
  {
   "cell_type": "code",
   "execution_count": 9,
   "metadata": {},
   "outputs": [
    {
     "name": "stdout",
     "output_type": "stream",
     "text": [
      "'data.frame':\t146 obs. of  5 variables:\n",
      " $ Eth : Factor w/ 2 levels \"A\",\"N\": 1 1 1 1 1 1 1 1 1 1 ...\n",
      " $ Sex : Factor w/ 2 levels \"F\",\"M\": 2 2 2 2 2 2 2 2 2 2 ...\n",
      " $ Age : Factor w/ 4 levels \"F0\",\"F1\",\"F2\",..: 1 1 1 1 1 1 1 1 2 2 ...\n",
      " $ Lrn : Factor w/ 2 levels \"AL\",\"SL\": 2 2 2 1 1 1 1 1 2 2 ...\n",
      " $ Days: int  2 11 14 5 5 13 20 22 6 6 ...\n"
     ]
    },
    {
     "data": {
      "text/html": [
       "<table>\n",
       "<thead><tr><th scope=col>Eth</th><th scope=col>Sex</th><th scope=col>Age</th><th scope=col>Lrn</th><th scope=col>Days</th></tr></thead>\n",
       "<tbody>\n",
       "\t<tr><td>A </td><td>M </td><td>F0</td><td>SL</td><td> 2</td></tr>\n",
       "\t<tr><td>A </td><td>M </td><td>F0</td><td>SL</td><td>11</td></tr>\n",
       "\t<tr><td>A </td><td>M </td><td>F0</td><td>SL</td><td>14</td></tr>\n",
       "\t<tr><td>A </td><td>M </td><td>F0</td><td>AL</td><td> 5</td></tr>\n",
       "\t<tr><td>A </td><td>M </td><td>F0</td><td>AL</td><td> 5</td></tr>\n",
       "\t<tr><td>A </td><td>M </td><td>F0</td><td>AL</td><td>13</td></tr>\n",
       "</tbody>\n",
       "</table>\n"
      ],
      "text/latex": [
       "\\begin{tabular}{r|lllll}\n",
       " Eth & Sex & Age & Lrn & Days\\\\\n",
       "\\hline\n",
       "\t A  & M  & F0 & SL &  2\\\\\n",
       "\t A  & M  & F0 & SL & 11\\\\\n",
       "\t A  & M  & F0 & SL & 14\\\\\n",
       "\t A  & M  & F0 & AL &  5\\\\\n",
       "\t A  & M  & F0 & AL &  5\\\\\n",
       "\t A  & M  & F0 & AL & 13\\\\\n",
       "\\end{tabular}\n"
      ],
      "text/markdown": [
       "\n",
       "Eth | Sex | Age | Lrn | Days | \n",
       "|---|---|---|---|---|---|\n",
       "| A  | M  | F0 | SL |  2 | \n",
       "| A  | M  | F0 | SL | 11 | \n",
       "| A  | M  | F0 | SL | 14 | \n",
       "| A  | M  | F0 | AL |  5 | \n",
       "| A  | M  | F0 | AL |  5 | \n",
       "| A  | M  | F0 | AL | 13 | \n",
       "\n",
       "\n"
      ],
      "text/plain": [
       "  Eth Sex Age Lrn Days\n",
       "1 A   M   F0  SL   2  \n",
       "2 A   M   F0  SL  11  \n",
       "3 A   M   F0  SL  14  \n",
       "4 A   M   F0  AL   5  \n",
       "5 A   M   F0  AL   5  \n",
       "6 A   M   F0  AL  13  "
      ]
     },
     "metadata": {},
     "output_type": "display_data"
    }
   ],
   "source": [
    "library(MASS)\n",
    "data(quine)\n",
    "str(quine)\n",
    "head(quine)"
   ]
  },
  {
   "cell_type": "code",
   "execution_count": 16,
   "metadata": {},
   "outputs": [
    {
     "data": {
      "text/html": [
       "<table>\n",
       "<thead><tr><th scope=col>Ethnicity</th><th scope=col>Sex</th><th scope=col>Age</th><th scope=col>LearnerStatus</th><th scope=col>DaysAbsent</th></tr></thead>\n",
       "<tbody>\n",
       "\t<tr><td>A </td><td>M </td><td>F0</td><td>SL</td><td> 2</td></tr>\n",
       "\t<tr><td>A </td><td>M </td><td>F0</td><td>SL</td><td>11</td></tr>\n",
       "\t<tr><td>A </td><td>M </td><td>F0</td><td>SL</td><td>14</td></tr>\n",
       "\t<tr><td>A </td><td>M </td><td>F0</td><td>AL</td><td> 5</td></tr>\n",
       "\t<tr><td>A </td><td>M </td><td>F0</td><td>AL</td><td> 5</td></tr>\n",
       "\t<tr><td>A </td><td>M </td><td>F0</td><td>AL</td><td>13</td></tr>\n",
       "</tbody>\n",
       "</table>\n"
      ],
      "text/latex": [
       "\\begin{tabular}{r|lllll}\n",
       " Ethnicity & Sex & Age & LearnerStatus & DaysAbsent\\\\\n",
       "\\hline\n",
       "\t A  & M  & F0 & SL &  2\\\\\n",
       "\t A  & M  & F0 & SL & 11\\\\\n",
       "\t A  & M  & F0 & SL & 14\\\\\n",
       "\t A  & M  & F0 & AL &  5\\\\\n",
       "\t A  & M  & F0 & AL &  5\\\\\n",
       "\t A  & M  & F0 & AL & 13\\\\\n",
       "\\end{tabular}\n"
      ],
      "text/markdown": [
       "\n",
       "Ethnicity | Sex | Age | LearnerStatus | DaysAbsent | \n",
       "|---|---|---|---|---|---|\n",
       "| A  | M  | F0 | SL |  2 | \n",
       "| A  | M  | F0 | SL | 11 | \n",
       "| A  | M  | F0 | SL | 14 | \n",
       "| A  | M  | F0 | AL |  5 | \n",
       "| A  | M  | F0 | AL |  5 | \n",
       "| A  | M  | F0 | AL | 13 | \n",
       "\n",
       "\n"
      ],
      "text/plain": [
       "  Ethnicity Sex Age LearnerStatus DaysAbsent\n",
       "1 A         M   F0  SL             2        \n",
       "2 A         M   F0  SL            11        \n",
       "3 A         M   F0  SL            14        \n",
       "4 A         M   F0  AL             5        \n",
       "5 A         M   F0  AL             5        \n",
       "6 A         M   F0  AL            13        "
      ]
     },
     "metadata": {},
     "output_type": "display_data"
    }
   ],
   "source": [
    "# Use the colnames function to give it some more helpful column names\n",
    "colnames(quine) <- c('Ethnicity', 'Sex', 'Age', 'LearnerStatus', \"DaysAbsent\")\n",
    "# ...and check it's worked\n",
    "head(quine)"
   ]
  },
  {
   "cell_type": "code",
   "execution_count": 17,
   "metadata": {},
   "outputs": [
    {
     "data": {
      "text/plain": [
       "\n",
       " A  N \n",
       "69 77 "
      ]
     },
     "metadata": {},
     "output_type": "display_data"
    }
   ],
   "source": [
    "# Use table on the ethnic background variable. \n",
    "# What ethnicity is most prevalent in the data set?\n",
    "table(quine$Ethnicity) # Most are not Aboriginal"
   ]
  },
  {
   "cell_type": "code",
   "execution_count": 22,
   "metadata": {},
   "outputs": [
    {
     "name": "stdout",
     "output_type": "stream",
     "text": [
      "'data.frame':\t146 obs. of  5 variables:\n",
      " $ Ethnicity    : Factor w/ 2 levels \"A\",\"N\": 1 1 1 1 1 1 1 1 1 1 ...\n",
      " $ Sex          : Factor w/ 2 levels \"F\",\"M\": 2 2 2 2 2 2 2 2 2 2 ...\n",
      " $ Age          : Ord.factor w/ 4 levels \"F0\"<\"F1\"<\"F2\"<..: 1 1 1 1 1 1 1 1 2 2 ...\n",
      " $ LearnerStatus: Ord.factor w/ 2 levels \"SL\"<\"AL\": 1 1 1 2 2 2 2 2 1 1 ...\n",
      " $ DaysAbsent   : int  2 11 14 5 5 13 20 22 6 6 ...\n"
     ]
    },
    {
     "data": {
      "text/html": [
       "<table>\n",
       "<thead><tr><th scope=col>Ethnicity</th><th scope=col>Sex</th><th scope=col>Age</th><th scope=col>LearnerStatus</th><th scope=col>DaysAbsent</th></tr></thead>\n",
       "<tbody>\n",
       "\t<tr><td>A </td><td>M </td><td>F0</td><td>SL</td><td> 2</td></tr>\n",
       "\t<tr><td>A </td><td>M </td><td>F0</td><td>SL</td><td>11</td></tr>\n",
       "\t<tr><td>A </td><td>M </td><td>F0</td><td>SL</td><td>14</td></tr>\n",
       "\t<tr><td>A </td><td>M </td><td>F0</td><td>AL</td><td> 5</td></tr>\n",
       "\t<tr><td>A </td><td>M </td><td>F0</td><td>AL</td><td> 5</td></tr>\n",
       "\t<tr><td>A </td><td>M </td><td>F0</td><td>AL</td><td>13</td></tr>\n",
       "</tbody>\n",
       "</table>\n"
      ],
      "text/latex": [
       "\\begin{tabular}{r|lllll}\n",
       " Ethnicity & Sex & Age & LearnerStatus & DaysAbsent\\\\\n",
       "\\hline\n",
       "\t A  & M  & F0 & SL &  2\\\\\n",
       "\t A  & M  & F0 & SL & 11\\\\\n",
       "\t A  & M  & F0 & SL & 14\\\\\n",
       "\t A  & M  & F0 & AL &  5\\\\\n",
       "\t A  & M  & F0 & AL &  5\\\\\n",
       "\t A  & M  & F0 & AL & 13\\\\\n",
       "\\end{tabular}\n"
      ],
      "text/markdown": [
       "\n",
       "Ethnicity | Sex | Age | LearnerStatus | DaysAbsent | \n",
       "|---|---|---|---|---|---|\n",
       "| A  | M  | F0 | SL |  2 | \n",
       "| A  | M  | F0 | SL | 11 | \n",
       "| A  | M  | F0 | SL | 14 | \n",
       "| A  | M  | F0 | AL |  5 | \n",
       "| A  | M  | F0 | AL |  5 | \n",
       "| A  | M  | F0 | AL | 13 | \n",
       "\n",
       "\n"
      ],
      "text/plain": [
       "  Ethnicity Sex Age LearnerStatus DaysAbsent\n",
       "1 A         M   F0  SL             2        \n",
       "2 A         M   F0  SL            11        \n",
       "3 A         M   F0  SL            14        \n",
       "4 A         M   F0  AL             5        \n",
       "5 A         M   F0  AL             5        \n",
       "6 A         M   F0  AL            13        "
      ]
     },
     "metadata": {},
     "output_type": "display_data"
    }
   ],
   "source": [
    "# Change the age and the learner variable to be ordered factors. \n",
    "# Have a look at the structure then.\n",
    "quine$Age <- factor(quine$Age,ordered=TRUE)\n",
    "quine$LearnerStatus <- factor(quine$LearnerStatus, levels = c('SL', \"AL\"), ordered = TRUE)\n",
    "str(quine)\n",
    "head(quine)\n"
   ]
  },
  {
   "cell_type": "code",
   "execution_count": 23,
   "metadata": {},
   "outputs": [
    {
     "data": {
      "text/plain": [
       "           quine$Ethnicity\n",
       "quine$Learn  A  N\n",
       "         SL 29 34\n",
       "         AL 40 43"
      ]
     },
     "metadata": {},
     "output_type": "display_data"
    }
   ],
   "source": [
    "# Use table to tabulate the learner ability and the ethnicity\n",
    "table(quine$Learn, quine$Ethnicity, deparse.level = 2)\n"
   ]
  },
  {
   "cell_type": "code",
   "execution_count": 24,
   "metadata": {},
   "outputs": [
    {
     "data": {
      "text/html": [
       "<table>\n",
       "<thead><tr><th></th><th scope=col>A</th><th scope=col>N</th><th scope=col>Sum</th></tr></thead>\n",
       "<tbody>\n",
       "\t<tr><th scope=row>SL</th><td>29 </td><td>34 </td><td> 63</td></tr>\n",
       "\t<tr><th scope=row>AL</th><td>40 </td><td>43 </td><td> 83</td></tr>\n",
       "\t<tr><th scope=row>Sum</th><td>69 </td><td>77 </td><td>146</td></tr>\n",
       "</tbody>\n",
       "</table>\n"
      ],
      "text/latex": [
       "\\begin{tabular}{r|lll}\n",
       "  & A & N & Sum\\\\\n",
       "\\hline\n",
       "\tSL & 29  & 34  &  63\\\\\n",
       "\tAL & 40  & 43  &  83\\\\\n",
       "\tSum & 69  & 77  & 146\\\\\n",
       "\\end{tabular}\n"
      ],
      "text/markdown": [
       "\n",
       "| <!--/--> | A | N | Sum | \n",
       "|---|---|---|\n",
       "| SL | 29  | 34  |  63 | \n",
       "| AL | 40  | 43  |  83 | \n",
       "| Sum | 69  | 77  | 146 | \n",
       "\n",
       "\n"
      ],
      "text/plain": [
       "           quine$Ethnicity\n",
       "quine$Learn A  N  Sum\n",
       "        SL  29 34  63\n",
       "        AL  40 43  83\n",
       "        Sum 69 77 146"
      ]
     },
     "metadata": {},
     "output_type": "display_data"
    }
   ],
   "source": [
    "# How many children in the study are slow learners? 63\n",
    "addmargins(table(quine$Learn, quine$Ethnicity, deparse.level = 2))\n"
   ]
  },
  {
   "cell_type": "code",
   "execution_count": null,
   "metadata": {},
   "outputs": [],
   "source": [
    "# Use tapply to calculate the mean and sd of number of days off by ethnicity\n",
    "options(error=recover)\n",
    "tapply(quine$DaysAbsent, quine$Ethnicity, mean)\n",
    "tapply(quine$DaysAbsent, quine$Ethnicity, sd)"
   ]
  },
  {
   "cell_type": "code",
   "execution_count": 34,
   "metadata": {},
   "outputs": [
    {
     "data": {
      "text/html": [
       "<table>\n",
       "<thead><tr><th scope=col>Group.1</th><th scope=col>Group.2</th><th scope=col>x</th></tr></thead>\n",
       "<tbody>\n",
       "\t<tr><td>SL      </td><td>F       </td><td>16.67500</td></tr>\n",
       "\t<tr><td>AL      </td><td>F       </td><td>13.77500</td></tr>\n",
       "\t<tr><td>SL      </td><td>M       </td><td>18.39130</td></tr>\n",
       "\t<tr><td>AL      </td><td>M       </td><td>17.72093</td></tr>\n",
       "</tbody>\n",
       "</table>\n"
      ],
      "text/latex": [
       "\\begin{tabular}{r|lll}\n",
       " Group.1 & Group.2 & x\\\\\n",
       "\\hline\n",
       "\t SL       & F        & 16.67500\\\\\n",
       "\t AL       & F        & 13.77500\\\\\n",
       "\t SL       & M        & 18.39130\\\\\n",
       "\t AL       & M        & 17.72093\\\\\n",
       "\\end{tabular}\n"
      ],
      "text/markdown": [
       "\n",
       "Group.1 | Group.2 | x | \n",
       "|---|---|---|---|\n",
       "| SL       | F        | 16.67500 | \n",
       "| AL       | F        | 13.77500 | \n",
       "| SL       | M        | 18.39130 | \n",
       "| AL       | M        | 17.72093 | \n",
       "\n",
       "\n"
      ],
      "text/plain": [
       "  Group.1 Group.2 x       \n",
       "1 SL      F       16.67500\n",
       "2 AL      F       13.77500\n",
       "3 SL      M       18.39130\n",
       "4 AL      M       17.72093"
      ]
     },
     "metadata": {},
     "output_type": "display_data"
    },
    {
     "data": {
      "text/html": [
       "<table>\n",
       "<thead><tr><th scope=col>Group.1</th><th scope=col>Group.2</th><th scope=col>x</th></tr></thead>\n",
       "<tbody>\n",
       "\t<tr><td>SL      </td><td>F       </td><td>19.20255</td></tr>\n",
       "\t<tr><td>AL      </td><td>F       </td><td>11.87647</td></tr>\n",
       "\t<tr><td>SL      </td><td>M       </td><td>18.99220</td></tr>\n",
       "\t<tr><td>AL      </td><td>M       </td><td>15.46321</td></tr>\n",
       "</tbody>\n",
       "</table>\n"
      ],
      "text/latex": [
       "\\begin{tabular}{r|lll}\n",
       " Group.1 & Group.2 & x\\\\\n",
       "\\hline\n",
       "\t SL       & F        & 19.20255\\\\\n",
       "\t AL       & F        & 11.87647\\\\\n",
       "\t SL       & M        & 18.99220\\\\\n",
       "\t AL       & M        & 15.46321\\\\\n",
       "\\end{tabular}\n"
      ],
      "text/markdown": [
       "\n",
       "Group.1 | Group.2 | x | \n",
       "|---|---|---|---|\n",
       "| SL       | F        | 19.20255 | \n",
       "| AL       | F        | 11.87647 | \n",
       "| SL       | M        | 18.99220 | \n",
       "| AL       | M        | 15.46321 | \n",
       "\n",
       "\n"
      ],
      "text/plain": [
       "  Group.1 Group.2 x       \n",
       "1 SL      F       19.20255\n",
       "2 AL      F       11.87647\n",
       "3 SL      M       18.99220\n",
       "4 AL      M       15.46321"
      ]
     },
     "metadata": {},
     "output_type": "display_data"
    }
   ],
   "source": [
    "# Calculate mean and standard deviation of days absent by learner status and sex using aggregate\n",
    "aggregate(quine$DaysAbsent, list(quine$Learn, quine$Sex), mean)\n",
    "aggregate(quine$DaysAbsent, list(quine$Learn, quine$Sex), sd)"
   ]
  },
  {
   "cell_type": "code",
   "execution_count": 37,
   "metadata": {},
   "outputs": [
    {
     "data": {
      "text/html": [
       "<ol class=list-inline>\n",
       "\t<li>2</li>\n",
       "\t<li>11</li>\n",
       "\t<li>14</li>\n",
       "\t<li>5</li>\n",
       "\t<li>5</li>\n",
       "\t<li>13</li>\n",
       "</ol>\n"
      ],
      "text/latex": [
       "\\begin{enumerate*}\n",
       "\\item 2\n",
       "\\item 11\n",
       "\\item 14\n",
       "\\item 5\n",
       "\\item 5\n",
       "\\item 13\n",
       "\\end{enumerate*}\n"
      ],
      "text/markdown": [
       "1. 2\n",
       "2. 11\n",
       "3. 14\n",
       "4. 5\n",
       "5. 5\n",
       "6. 13\n",
       "\n",
       "\n"
      ],
      "text/plain": [
       "[1]  2 11 14  5  5 13"
      ]
     },
     "metadata": {},
     "output_type": "display_data"
    }
   ],
   "source": [
    "head(quine$DaysAbsent)"
   ]
  },
  {
   "cell_type": "code",
   "execution_count": 40,
   "metadata": {},
   "outputs": [
    {
     "data": {
      "text/plain": [
       "cut.days\n",
       "   few medium   many \n",
       "   104     39      3 "
      ]
     },
     "metadata": {},
     "output_type": "display_data"
    }
   ],
   "source": [
    "# Cut days absent into 3 categories and produce a new table - how many scarily absent students?\n",
    "cut.days <- cut(quine$DaysAbsent, c(0, 20, 60, 100), labels = c('few', 'medium', 'many'), ordered_result = TRUE, include.lowest = TRUE)\n",
    "table(cut.days)"
   ]
  },
  {
   "cell_type": "code",
   "execution_count": null,
   "metadata": {},
   "outputs": [],
   "source": []
  }
 ],
 "metadata": {
  "kernelspec": {
   "display_name": "R",
   "language": "R",
   "name": "ir"
  },
  "language_info": {
   "codemirror_mode": "r",
   "file_extension": ".r",
   "mimetype": "text/x-r-source",
   "name": "R",
   "pygments_lexer": "r",
   "version": "3.5.1"
  }
 },
 "nbformat": 4,
 "nbformat_minor": 2
}
