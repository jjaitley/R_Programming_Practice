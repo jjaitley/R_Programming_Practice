{
 "cells": [
  {
   "cell_type": "code",
   "execution_count": 1,
   "metadata": {},
   "outputs": [],
   "source": [
    "rm(list=ls())"
   ]
  },
  {
   "cell_type": "code",
   "execution_count": null,
   "metadata": {},
   "outputs": [],
   "source": [
    "library(gmp)"
   ]
  },
  {
   "cell_type": "code",
   "execution_count": 4,
   "metadata": {},
   "outputs": [
    {
     "name": "stdout",
     "output_type": "stream",
     "text": [
      "[1] 2\n",
      "[1] 3\n",
      "[1] 5\n",
      "[1] 7\n",
      "[1] 11\n",
      "[1] 13\n",
      "[1] 17\n",
      "[1] 19\n",
      "[1] 23\n",
      "[1] 29\n"
     ]
    }
   ],
   "source": [
    "# for loop version\n",
    "large <- 1000\n",
    "num <- 0\n",
    "for(i in 1:large) {\n",
    "  if(isprime(i) == 2) {\n",
    "    print(i)\n",
    "    num <- num + 1\n",
    "  }\n",
    "  if(num == 10) break\n",
    "}"
   ]
  },
  {
   "cell_type": "code",
   "execution_count": 16,
   "metadata": {},
   "outputs": [
    {
     "data": {
      "text/html": [
       "<table>\n",
       "<thead><tr><th></th><th scope=col>Composition</th><th scope=col>Drawing</th><th scope=col>Colour</th><th scope=col>Expression</th><th scope=col>School</th></tr></thead>\n",
       "<tbody>\n",
       "\t<tr><th scope=row>Da Udine</th><td>10</td><td> 8</td><td>16</td><td> 3</td><td>A </td></tr>\n",
       "\t<tr><th scope=row>Da Vinci</th><td>15</td><td>16</td><td> 4</td><td>14</td><td>A </td></tr>\n",
       "\t<tr><th scope=row>Del Piombo</th><td> 8</td><td>13</td><td>16</td><td> 7</td><td>A </td></tr>\n",
       "\t<tr><th scope=row>Del Sarto</th><td>12</td><td>16</td><td> 9</td><td> 8</td><td>A </td></tr>\n",
       "\t<tr><th scope=row>Fr. Penni</th><td> 0</td><td>15</td><td> 8</td><td> 0</td><td>A </td></tr>\n",
       "\t<tr><th scope=row>Guilio Romano</th><td>15</td><td>16</td><td> 4</td><td>14</td><td>A </td></tr>\n",
       "</tbody>\n",
       "</table>\n"
      ],
      "text/latex": [
       "\\begin{tabular}{r|lllll}\n",
       "  & Composition & Drawing & Colour & Expression & School\\\\\n",
       "\\hline\n",
       "\tDa Udine & 10 &  8 & 16 &  3 & A \\\\\n",
       "\tDa Vinci & 15 & 16 &  4 & 14 & A \\\\\n",
       "\tDel Piombo &  8 & 13 & 16 &  7 & A \\\\\n",
       "\tDel Sarto & 12 & 16 &  9 &  8 & A \\\\\n",
       "\tFr. Penni &  0 & 15 &  8 &  0 & A \\\\\n",
       "\tGuilio Romano & 15 & 16 &  4 & 14 & A \\\\\n",
       "\\end{tabular}\n"
      ],
      "text/markdown": [
       "\n",
       "| <!--/--> | Composition | Drawing | Colour | Expression | School | \n",
       "|---|---|---|---|---|---|\n",
       "| Da Udine | 10 |  8 | 16 |  3 | A  | \n",
       "| Da Vinci | 15 | 16 |  4 | 14 | A  | \n",
       "| Del Piombo |  8 | 13 | 16 |  7 | A  | \n",
       "| Del Sarto | 12 | 16 |  9 |  8 | A  | \n",
       "| Fr. Penni |  0 | 15 |  8 |  0 | A  | \n",
       "| Guilio Romano | 15 | 16 |  4 | 14 | A  | \n",
       "\n",
       "\n"
      ],
      "text/plain": [
       "              Composition Drawing Colour Expression School\n",
       "Da Udine      10           8      16      3         A     \n",
       "Da Vinci      15          16       4     14         A     \n",
       "Del Piombo     8          13      16      7         A     \n",
       "Del Sarto     12          16       9      8         A     \n",
       "Fr. Penni      0          15       8      0         A     \n",
       "Guilio Romano 15          16       4     14         A     "
      ]
     },
     "metadata": {},
     "output_type": "display_data"
    },
    {
     "name": "stdout",
     "output_type": "stream",
     "text": [
      "'data.frame':\t54 obs. of  5 variables:\n",
      " $ Composition: int  10 15 8 12 0 15 8 15 4 17 ...\n",
      " $ Drawing    : int  8 16 13 16 15 16 17 16 12 18 ...\n",
      " $ Colour     : int  16 4 16 9 8 4 4 7 10 12 ...\n",
      " $ Expression : int  3 14 7 8 0 14 8 6 4 18 ...\n",
      " $ School     : Factor w/ 8 levels \"A\",\"B\",\"C\",\"D\",..: 1 1 1 1 1 1 1 1 1 1 ...\n"
     ]
    }
   ],
   "source": [
    "library(MASS)\n",
    "data(painters)\n",
    "head(painters)\n",
    "str(painters)"
   ]
  },
  {
   "cell_type": "code",
   "execution_count": 7,
   "metadata": {},
   "outputs": [],
   "source": [
    "# What's the difference between these two?\n",
    "painters$Colour>15 | painters$Expression>15\n",
    "painters$Colour>15 || painters$Expression>15 # This is only the first one\n"
   ]
  },
  {
   "cell_type": "code",
   "execution_count": 10,
   "metadata": {},
   "outputs": [
    {
     "data": {
      "text/html": [
       "18"
      ],
      "text/latex": [
       "18"
      ],
      "text/markdown": [
       "18"
      ],
      "text/plain": [
       "[1] 18"
      ]
     },
     "metadata": {},
     "output_type": "display_data"
    }
   ],
   "source": [
    "# How many painters have a Colour or Expression score bigger than 15?\n",
    "sum(painters$Colour>15 | painters$Expression>15) # 18"
   ]
  },
  {
   "cell_type": "code",
   "execution_count": 11,
   "metadata": {},
   "outputs": [
    {
     "data": {
      "text/html": [
       "5"
      ],
      "text/latex": [
       "5"
      ],
      "text/markdown": [
       "5"
      ],
      "text/plain": [
       "[1] 5"
      ]
     },
     "metadata": {},
     "output_type": "display_data"
    }
   ],
   "source": [
    "# How many painters have all scores bigger than 10?\n",
    "sum(painters$Colour>10 & painters$Expression>10 & painters$Composition>10 & painters$Drawing>10) # 5\n"
   ]
  },
  {
   "cell_type": "code",
   "execution_count": 13,
   "metadata": {},
   "outputs": [],
   "source": [
    "# 3. Define an elite painter as one who has a total score greater than 30. \n",
    "# Create a new variable using an ifelse statement to discover the number of elite or non-elite painters\n",
    "totalscore <- apply(painters[,1:4], 1, sum)\n",
    "elite <- ifelse(totalscore > 30, \"elite\", \"non-elite\")\n",
    "# How many elite painters are there in this data set\n",
    "sum(elite == \"elite\") # 46\n"
   ]
  },
  {
   "cell_type": "code",
   "execution_count": 15,
   "metadata": {},
   "outputs": [
    {
     "data": {
      "text/html": [
       "<dl class=dl-horizontal>\n",
       "\t<dt>Da Udine</dt>\n",
       "\t\t<dd>37</dd>\n",
       "\t<dt>Da Vinci</dt>\n",
       "\t\t<dd>49</dd>\n",
       "\t<dt>Del Piombo</dt>\n",
       "\t\t<dd>44</dd>\n",
       "\t<dt>Del Sarto</dt>\n",
       "\t\t<dd>45</dd>\n",
       "\t<dt>Fr. Penni</dt>\n",
       "\t\t<dd>23</dd>\n",
       "\t<dt>Guilio Romano</dt>\n",
       "\t\t<dd>49</dd>\n",
       "</dl>\n"
      ],
      "text/latex": [
       "\\begin{description*}\n",
       "\\item[Da Udine] 37\n",
       "\\item[Da Vinci] 49\n",
       "\\item[Del Piombo] 44\n",
       "\\item[Del Sarto] 45\n",
       "\\item[Fr. Penni] 23\n",
       "\\item[Guilio Romano] 49\n",
       "\\end{description*}\n"
      ],
      "text/markdown": [
       "Da Udine\n",
       ":   37Da Vinci\n",
       ":   49Del Piombo\n",
       ":   44Del Sarto\n",
       ":   45Fr. Penni\n",
       ":   23Guilio Romano\n",
       ":   49\n",
       "\n"
      ],
      "text/plain": [
       "     Da Udine      Da Vinci    Del Piombo     Del Sarto     Fr. Penni \n",
       "           37            49            44            45            23 \n",
       "Guilio Romano \n",
       "           49 "
      ]
     },
     "metadata": {},
     "output_type": "display_data"
    }
   ],
   "source": []
  },
  {
   "cell_type": "code",
   "execution_count": null,
   "metadata": {},
   "outputs": [],
   "source": []
  }
 ],
 "metadata": {
  "kernelspec": {
   "display_name": "R",
   "language": "R",
   "name": "ir"
  },
  "language_info": {
   "codemirror_mode": "r",
   "file_extension": ".r",
   "mimetype": "text/x-r-source",
   "name": "R",
   "pygments_lexer": "r",
   "version": "3.5.1"
  }
 },
 "nbformat": 4,
 "nbformat_minor": 2
}
