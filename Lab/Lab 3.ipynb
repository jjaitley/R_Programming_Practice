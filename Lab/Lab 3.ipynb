{
 "cells": [
  {
   "cell_type": "code",
   "execution_count": 19,
   "metadata": {},
   "outputs": [
    {
     "data": {
      "text/plain": [
       "   agegp          alcgp         tobgp        ncases         ncontrols    \n",
       " 25-34:15   0-39g/day:23   0-9g/day:24   Min.   : 0.000   Min.   : 1.00  \n",
       " 35-44:15   40-79    :23   10-19   :24   1st Qu.: 0.000   1st Qu.: 3.00  \n",
       " 45-54:16   80-119   :21   20-29   :20   Median : 1.000   Median : 6.00  \n",
       " 55-64:16   120+     :21   30+     :20   Mean   : 2.273   Mean   :11.08  \n",
       " 65-74:15                                3rd Qu.: 4.000   3rd Qu.:14.00  \n",
       " 75+  :11                                Max.   :17.000   Max.   :60.00  "
      ]
     },
     "metadata": {},
     "output_type": "display_data"
    }
   ],
   "source": [
    "# Load the esoph inbuilt data set\n",
    "data(esoph)\n",
    "summary(esoph)\n"
   ]
  },
  {
   "cell_type": "code",
   "execution_count": 3,
   "metadata": {},
   "outputs": [],
   "source": [
    "# Use the colnames function to give it some more helpful column names\n",
    "colnames(esoph) <- c('Age', 'Alcohol', 'Tobacco', 'NoCases', 'NoControls')\n"
   ]
  },
  {
   "cell_type": "code",
   "execution_count": 5,
   "metadata": {},
   "outputs": [
    {
     "data": {
      "text/html": [
       "<table>\n",
       "<thead><tr><th scope=col>Age</th><th scope=col>Alcohol</th><th scope=col>Tobacco</th><th scope=col>NoCases</th><th scope=col>NoControls</th></tr></thead>\n",
       "<tbody>\n",
       "\t<tr><td>25-34    </td><td>0-39g/day</td><td>0-9g/day </td><td>0        </td><td>40       </td></tr>\n",
       "\t<tr><td>25-34    </td><td>0-39g/day</td><td>10-19    </td><td>0        </td><td>10       </td></tr>\n",
       "\t<tr><td>25-34    </td><td>0-39g/day</td><td>20-29    </td><td>0        </td><td> 6       </td></tr>\n",
       "\t<tr><td>25-34    </td><td>0-39g/day</td><td>30+      </td><td>0        </td><td> 5       </td></tr>\n",
       "\t<tr><td>25-34    </td><td>40-79    </td><td>0-9g/day </td><td>0        </td><td>27       </td></tr>\n",
       "\t<tr><td>25-34    </td><td>40-79    </td><td>10-19    </td><td>0        </td><td> 7       </td></tr>\n",
       "</tbody>\n",
       "</table>\n"
      ],
      "text/latex": [
       "\\begin{tabular}{r|lllll}\n",
       " Age & Alcohol & Tobacco & NoCases & NoControls\\\\\n",
       "\\hline\n",
       "\t 25-34     & 0-39g/day & 0-9g/day  & 0         & 40       \\\\\n",
       "\t 25-34     & 0-39g/day & 10-19     & 0         & 10       \\\\\n",
       "\t 25-34     & 0-39g/day & 20-29     & 0         &  6       \\\\\n",
       "\t 25-34     & 0-39g/day & 30+       & 0         &  5       \\\\\n",
       "\t 25-34     & 40-79     & 0-9g/day  & 0         & 27       \\\\\n",
       "\t 25-34     & 40-79     & 10-19     & 0         &  7       \\\\\n",
       "\\end{tabular}\n"
      ],
      "text/markdown": [
       "\n",
       "Age | Alcohol | Tobacco | NoCases | NoControls | \n",
       "|---|---|---|---|---|---|\n",
       "| 25-34     | 0-39g/day | 0-9g/day  | 0         | 40        | \n",
       "| 25-34     | 0-39g/day | 10-19     | 0         | 10        | \n",
       "| 25-34     | 0-39g/day | 20-29     | 0         |  6        | \n",
       "| 25-34     | 0-39g/day | 30+       | 0         |  5        | \n",
       "| 25-34     | 40-79     | 0-9g/day  | 0         | 27        | \n",
       "| 25-34     | 40-79     | 10-19     | 0         |  7        | \n",
       "\n",
       "\n"
      ],
      "text/plain": [
       "  Age   Alcohol   Tobacco  NoCases NoControls\n",
       "1 25-34 0-39g/day 0-9g/day 0       40        \n",
       "2 25-34 0-39g/day 10-19    0       10        \n",
       "3 25-34 0-39g/day 20-29    0        6        \n",
       "4 25-34 0-39g/day 30+      0        5        \n",
       "5 25-34 40-79     0-9g/day 0       27        \n",
       "6 25-34 40-79     10-19    0        7        "
      ]
     },
     "metadata": {},
     "output_type": "display_data"
    }
   ],
   "source": [
    "head(esoph)"
   ]
  },
  {
   "cell_type": "code",
   "execution_count": 7,
   "metadata": {},
   "outputs": [
    {
     "data": {
      "text/html": [
       "0"
      ],
      "text/latex": [
       "0"
      ],
      "text/markdown": [
       "0"
      ],
      "text/plain": [
       "[1] 0"
      ]
     },
     "metadata": {},
     "output_type": "display_data"
    },
    {
     "data": {
      "text/html": [
       "0"
      ],
      "text/latex": [
       "0"
      ],
      "text/markdown": [
       "0"
      ],
      "text/plain": [
       "[1] 0"
      ]
     },
     "metadata": {},
     "output_type": "display_data"
    },
    {
     "data": {
      "text/html": [
       "0"
      ],
      "text/latex": [
       "0"
      ],
      "text/markdown": [
       "0"
      ],
      "text/plain": [
       "[1] 0"
      ]
     },
     "metadata": {},
     "output_type": "display_data"
    }
   ],
   "source": [
    "# Three different ways of accessing the number of cases in the 15th record.\n",
    "esoph$NoCases[15]\n",
    "esoph[15, 4]\n",
    "esoph[15, 'NoCases']\n"
   ]
  },
  {
   "cell_type": "code",
   "execution_count": 10,
   "metadata": {},
   "outputs": [],
   "source": [
    "# Create a new variable total observations\n",
    "esoph$TotalObs <- esoph$NoCases + esoph$NoControls\n"
   ]
  },
  {
   "cell_type": "code",
   "execution_count": 12,
   "metadata": {},
   "outputs": [
    {
     "data": {
      "text/html": [
       "<table>\n",
       "<thead><tr><th scope=col>NoCases</th><th scope=col>NoControls</th></tr></thead>\n",
       "<tbody>\n",
       "\t<tr><td>0 </td><td>40</td></tr>\n",
       "\t<tr><td>0 </td><td>10</td></tr>\n",
       "\t<tr><td>0 </td><td> 6</td></tr>\n",
       "\t<tr><td>0 </td><td> 5</td></tr>\n",
       "\t<tr><td>0 </td><td>27</td></tr>\n",
       "\t<tr><td>0 </td><td> 7</td></tr>\n",
       "</tbody>\n",
       "</table>\n"
      ],
      "text/latex": [
       "\\begin{tabular}{r|ll}\n",
       " NoCases & NoControls\\\\\n",
       "\\hline\n",
       "\t 0  & 40\\\\\n",
       "\t 0  & 10\\\\\n",
       "\t 0  &  6\\\\\n",
       "\t 0  &  5\\\\\n",
       "\t 0  & 27\\\\\n",
       "\t 0  &  7\\\\\n",
       "\\end{tabular}\n"
      ],
      "text/markdown": [
       "\n",
       "NoCases | NoControls | \n",
       "|---|---|---|---|---|---|\n",
       "| 0  | 40 | \n",
       "| 0  | 10 | \n",
       "| 0  |  6 | \n",
       "| 0  |  5 | \n",
       "| 0  | 27 | \n",
       "| 0  |  7 | \n",
       "\n",
       "\n"
      ],
      "text/plain": [
       "  NoCases NoControls\n",
       "1 0       40        \n",
       "2 0       10        \n",
       "3 0        6        \n",
       "4 0        5        \n",
       "5 0       27        \n",
       "6 0        7        "
      ]
     },
     "metadata": {},
     "output_type": "display_data"
    }
   ],
   "source": [
    "# Create a new data frame which contains only the number of cases and the number of controls columns\n",
    "esoph2 <- esoph[, 4:5]\n",
    "head(esoph2)"
   ]
  },
  {
   "cell_type": "code",
   "execution_count": 13,
   "metadata": {},
   "outputs": [
    {
     "data": {
      "text/html": [
       "<dl class=dl-horizontal>\n",
       "\t<dt>NoCases</dt>\n",
       "\t\t<dd>2.27272727272727</dd>\n",
       "\t<dt>NoControls</dt>\n",
       "\t\t<dd>11.0795454545455</dd>\n",
       "</dl>\n"
      ],
      "text/latex": [
       "\\begin{description*}\n",
       "\\item[NoCases] 2.27272727272727\n",
       "\\item[NoControls] 11.0795454545455\n",
       "\\end{description*}\n"
      ],
      "text/markdown": [
       "NoCases\n",
       ":   2.27272727272727NoControls\n",
       ":   11.0795454545455\n",
       "\n"
      ],
      "text/plain": [
       "   NoCases NoControls \n",
       "  2.272727  11.079545 "
      ]
     },
     "metadata": {},
     "output_type": "display_data"
    },
    {
     "data": {
      "text/html": [
       "<dl class=dl-horizontal>\n",
       "\t<dt>NoCases</dt>\n",
       "\t\t<dd>2.75316859347103</dd>\n",
       "\t<dt>NoControls</dt>\n",
       "\t\t<dd>12.7227026613611</dd>\n",
       "</dl>\n"
      ],
      "text/latex": [
       "\\begin{description*}\n",
       "\\item[NoCases] 2.75316859347103\n",
       "\\item[NoControls] 12.7227026613611\n",
       "\\end{description*}\n"
      ],
      "text/markdown": [
       "NoCases\n",
       ":   2.75316859347103NoControls\n",
       ":   12.7227026613611\n",
       "\n"
      ],
      "text/plain": [
       "   NoCases NoControls \n",
       "  2.753169  12.722703 "
      ]
     },
     "metadata": {},
     "output_type": "display_data"
    },
    {
     "data": {
      "text/html": [
       "<dl class=dl-horizontal>\n",
       "\t<dt>NoCases</dt>\n",
       "\t\t<dd>4</dd>\n",
       "\t<dt>NoControls</dt>\n",
       "\t\t<dd>11</dd>\n",
       "</dl>\n"
      ],
      "text/latex": [
       "\\begin{description*}\n",
       "\\item[NoCases] 4\n",
       "\\item[NoControls] 11\n",
       "\\end{description*}\n"
      ],
      "text/markdown": [
       "NoCases\n",
       ":   4NoControls\n",
       ":   11\n",
       "\n"
      ],
      "text/plain": [
       "   NoCases NoControls \n",
       "         4         11 "
      ]
     },
     "metadata": {},
     "output_type": "display_data"
    }
   ],
   "source": [
    "# Use sapply to calculate the mean, standard deviation and IQR for this new data frame\n",
    "sapply(esoph2, 'mean')\n",
    "sapply(esoph2, 'sd')\n",
    "sapply(esoph2, 'IQR')"
   ]
  },
  {
   "cell_type": "code",
   "execution_count": 14,
   "metadata": {},
   "outputs": [
    {
     "data": {
      "text/html": [
       "<table>\n",
       "<thead><tr><th></th><th scope=col>Age</th><th scope=col>Alcohol</th><th scope=col>Tobacco</th><th scope=col>NoCases</th><th scope=col>NoControls</th><th scope=col>TotalObs</th></tr></thead>\n",
       "<tbody>\n",
       "\t<tr><th scope=row>1</th><td>25-34    </td><td>0-39g/day</td><td>0-9g/day </td><td>0        </td><td>40       </td><td>40       </td></tr>\n",
       "\t<tr><th scope=row>2</th><td>25-34    </td><td>0-39g/day</td><td>10-19    </td><td>0        </td><td>10       </td><td>10       </td></tr>\n",
       "\t<tr><th scope=row>3</th><td>25-34    </td><td>0-39g/day</td><td>20-29    </td><td>0        </td><td> 6       </td><td> 6       </td></tr>\n",
       "\t<tr><th scope=row>4</th><td>25-34    </td><td>0-39g/day</td><td>30+      </td><td>0        </td><td> 5       </td><td> 5       </td></tr>\n",
       "\t<tr><th scope=row>16</th><td>35-44    </td><td>0-39g/day</td><td>0-9g/day </td><td>0        </td><td>60       </td><td>60       </td></tr>\n",
       "\t<tr><th scope=row>17</th><td>35-44    </td><td>0-39g/day</td><td>10-19    </td><td>1        </td><td>14       </td><td>15       </td></tr>\n",
       "</tbody>\n",
       "</table>\n"
      ],
      "text/latex": [
       "\\begin{tabular}{r|llllll}\n",
       "  & Age & Alcohol & Tobacco & NoCases & NoControls & TotalObs\\\\\n",
       "\\hline\n",
       "\t1 & 25-34     & 0-39g/day & 0-9g/day  & 0         & 40        & 40       \\\\\n",
       "\t2 & 25-34     & 0-39g/day & 10-19     & 0         & 10        & 10       \\\\\n",
       "\t3 & 25-34     & 0-39g/day & 20-29     & 0         &  6        &  6       \\\\\n",
       "\t4 & 25-34     & 0-39g/day & 30+       & 0         &  5        &  5       \\\\\n",
       "\t16 & 35-44     & 0-39g/day & 0-9g/day  & 0         & 60        & 60       \\\\\n",
       "\t17 & 35-44     & 0-39g/day & 10-19     & 1         & 14        & 15       \\\\\n",
       "\\end{tabular}\n"
      ],
      "text/markdown": [
       "\n",
       "| <!--/--> | Age | Alcohol | Tobacco | NoCases | NoControls | TotalObs | \n",
       "|---|---|---|---|---|---|\n",
       "| 1 | 25-34     | 0-39g/day | 0-9g/day  | 0         | 40        | 40        | \n",
       "| 2 | 25-34     | 0-39g/day | 10-19     | 0         | 10        | 10        | \n",
       "| 3 | 25-34     | 0-39g/day | 20-29     | 0         |  6        |  6        | \n",
       "| 4 | 25-34     | 0-39g/day | 30+       | 0         |  5        |  5        | \n",
       "| 16 | 35-44     | 0-39g/day | 0-9g/day  | 0         | 60        | 60        | \n",
       "| 17 | 35-44     | 0-39g/day | 10-19     | 1         | 14        | 15        | \n",
       "\n",
       "\n"
      ],
      "text/plain": [
       "   Age   Alcohol   Tobacco  NoCases NoControls TotalObs\n",
       "1  25-34 0-39g/day 0-9g/day 0       40         40      \n",
       "2  25-34 0-39g/day 10-19    0       10         10      \n",
       "3  25-34 0-39g/day 20-29    0        6          6      \n",
       "4  25-34 0-39g/day 30+      0        5          5      \n",
       "16 35-44 0-39g/day 0-9g/day 0       60         60      \n",
       "17 35-44 0-39g/day 10-19    1       14         15      "
      ]
     },
     "metadata": {},
     "output_type": "display_data"
    },
    {
     "data": {
      "text/html": [
       "<table>\n",
       "<thead><tr><th></th><th scope=col>Age</th><th scope=col>Alcohol</th><th scope=col>Tobacco</th><th scope=col>NoCases</th><th scope=col>NoControls</th><th scope=col>TotalObs</th></tr></thead>\n",
       "<tbody>\n",
       "\t<tr><th scope=row>12</th><td>25-34   </td><td>120+    </td><td>0-9g/day</td><td>0       </td><td>1       </td><td>1       </td></tr>\n",
       "\t<tr><th scope=row>13</th><td>25-34   </td><td>120+    </td><td>10-19   </td><td>1       </td><td>1       </td><td>2       </td></tr>\n",
       "\t<tr><th scope=row>14</th><td>25-34   </td><td>120+    </td><td>20-29   </td><td>0       </td><td>1       </td><td>1       </td></tr>\n",
       "\t<tr><th scope=row>15</th><td>25-34   </td><td>120+    </td><td>30+     </td><td>0       </td><td>2       </td><td>2       </td></tr>\n",
       "\t<tr><th scope=row>28</th><td>35-44   </td><td>120+    </td><td>0-9g/day</td><td>2       </td><td>3       </td><td>5       </td></tr>\n",
       "\t<tr><th scope=row>29</th><td>35-44   </td><td>120+    </td><td>10-19   </td><td>0       </td><td>3       </td><td>3       </td></tr>\n",
       "</tbody>\n",
       "</table>\n"
      ],
      "text/latex": [
       "\\begin{tabular}{r|llllll}\n",
       "  & Age & Alcohol & Tobacco & NoCases & NoControls & TotalObs\\\\\n",
       "\\hline\n",
       "\t12 & 25-34    & 120+     & 0-9g/day & 0        & 1        & 1       \\\\\n",
       "\t13 & 25-34    & 120+     & 10-19    & 1        & 1        & 2       \\\\\n",
       "\t14 & 25-34    & 120+     & 20-29    & 0        & 1        & 1       \\\\\n",
       "\t15 & 25-34    & 120+     & 30+      & 0        & 2        & 2       \\\\\n",
       "\t28 & 35-44    & 120+     & 0-9g/day & 2        & 3        & 5       \\\\\n",
       "\t29 & 35-44    & 120+     & 10-19    & 0        & 3        & 3       \\\\\n",
       "\\end{tabular}\n"
      ],
      "text/markdown": [
       "\n",
       "| <!--/--> | Age | Alcohol | Tobacco | NoCases | NoControls | TotalObs | \n",
       "|---|---|---|---|---|---|\n",
       "| 12 | 25-34    | 120+     | 0-9g/day | 0        | 1        | 1        | \n",
       "| 13 | 25-34    | 120+     | 10-19    | 1        | 1        | 2        | \n",
       "| 14 | 25-34    | 120+     | 20-29    | 0        | 1        | 1        | \n",
       "| 15 | 25-34    | 120+     | 30+      | 0        | 2        | 2        | \n",
       "| 28 | 35-44    | 120+     | 0-9g/day | 2        | 3        | 5        | \n",
       "| 29 | 35-44    | 120+     | 10-19    | 0        | 3        | 3        | \n",
       "\n",
       "\n"
      ],
      "text/plain": [
       "   Age   Alcohol Tobacco  NoCases NoControls TotalObs\n",
       "12 25-34 120+    0-9g/day 0       1          1       \n",
       "13 25-34 120+    10-19    1       1          2       \n",
       "14 25-34 120+    20-29    0       1          1       \n",
       "15 25-34 120+    30+      0       2          2       \n",
       "28 35-44 120+    0-9g/day 2       3          5       \n",
       "29 35-44 120+    10-19    0       3          3       "
      ]
     },
     "metadata": {},
     "output_type": "display_data"
    },
    {
     "data": {
      "text/html": [
       "1.26086956521739"
      ],
      "text/latex": [
       "1.26086956521739"
      ],
      "text/markdown": [
       "1.26086956521739"
      ],
      "text/plain": [
       "[1] 1.26087"
      ]
     },
     "metadata": {},
     "output_type": "display_data"
    },
    {
     "data": {
      "text/html": [
       "2.14285714285714"
      ],
      "text/latex": [
       "2.14285714285714"
      ],
      "text/markdown": [
       "2.14285714285714"
      ],
      "text/plain": [
       "[1] 2.142857"
      ]
     },
     "metadata": {},
     "output_type": "display_data"
    }
   ],
   "source": [
    "# Using subset get a particular type of catagory of data from all columns\n",
    "esophLowAlc <- subset(esoph, Alcohol=='0-39g/day')\n",
    "head(esophLowAlc)\n",
    "esophHighAlc <- subset(esoph, Alcohol=='120+')\n",
    "head(esophHighAlc)\n",
    "mean(esophLowAlc$NoCases)\n",
    "mean(esophHighAlc$NoCases)\n"
   ]
  },
  {
   "cell_type": "code",
   "execution_count": 16,
   "metadata": {},
   "outputs": [
    {
     "data": {
      "text/html": [
       "<table>\n",
       "<thead><tr><th></th><th scope=col>low</th><th scope=col>age</th><th scope=col>lwt</th><th scope=col>race</th><th scope=col>smoke</th><th scope=col>ptl</th><th scope=col>ht</th><th scope=col>ui</th><th scope=col>ftv</th><th scope=col>bwt</th></tr></thead>\n",
       "<tbody>\n",
       "\t<tr><th scope=row>85</th><td>0   </td><td>19  </td><td>182 </td><td>2   </td><td>0   </td><td>0   </td><td>0   </td><td>1   </td><td>0   </td><td>2523</td></tr>\n",
       "\t<tr><th scope=row>86</th><td>0   </td><td>33  </td><td>155 </td><td>3   </td><td>0   </td><td>0   </td><td>0   </td><td>0   </td><td>3   </td><td>2551</td></tr>\n",
       "\t<tr><th scope=row>87</th><td>0   </td><td>20  </td><td>105 </td><td>1   </td><td>1   </td><td>0   </td><td>0   </td><td>0   </td><td>1   </td><td>2557</td></tr>\n",
       "\t<tr><th scope=row>88</th><td>0   </td><td>21  </td><td>108 </td><td>1   </td><td>1   </td><td>0   </td><td>0   </td><td>1   </td><td>2   </td><td>2594</td></tr>\n",
       "\t<tr><th scope=row>89</th><td>0   </td><td>18  </td><td>107 </td><td>1   </td><td>1   </td><td>0   </td><td>0   </td><td>1   </td><td>0   </td><td>2600</td></tr>\n",
       "\t<tr><th scope=row>91</th><td>0   </td><td>21  </td><td>124 </td><td>3   </td><td>0   </td><td>0   </td><td>0   </td><td>0   </td><td>0   </td><td>2622</td></tr>\n",
       "</tbody>\n",
       "</table>\n"
      ],
      "text/latex": [
       "\\begin{tabular}{r|llllllllll}\n",
       "  & low & age & lwt & race & smoke & ptl & ht & ui & ftv & bwt\\\\\n",
       "\\hline\n",
       "\t85 & 0    & 19   & 182  & 2    & 0    & 0    & 0    & 1    & 0    & 2523\\\\\n",
       "\t86 & 0    & 33   & 155  & 3    & 0    & 0    & 0    & 0    & 3    & 2551\\\\\n",
       "\t87 & 0    & 20   & 105  & 1    & 1    & 0    & 0    & 0    & 1    & 2557\\\\\n",
       "\t88 & 0    & 21   & 108  & 1    & 1    & 0    & 0    & 1    & 2    & 2594\\\\\n",
       "\t89 & 0    & 18   & 107  & 1    & 1    & 0    & 0    & 1    & 0    & 2600\\\\\n",
       "\t91 & 0    & 21   & 124  & 3    & 0    & 0    & 0    & 0    & 0    & 2622\\\\\n",
       "\\end{tabular}\n"
      ],
      "text/markdown": [
       "\n",
       "| <!--/--> | low | age | lwt | race | smoke | ptl | ht | ui | ftv | bwt | \n",
       "|---|---|---|---|---|---|\n",
       "| 85 | 0    | 19   | 182  | 2    | 0    | 0    | 0    | 1    | 0    | 2523 | \n",
       "| 86 | 0    | 33   | 155  | 3    | 0    | 0    | 0    | 0    | 3    | 2551 | \n",
       "| 87 | 0    | 20   | 105  | 1    | 1    | 0    | 0    | 0    | 1    | 2557 | \n",
       "| 88 | 0    | 21   | 108  | 1    | 1    | 0    | 0    | 1    | 2    | 2594 | \n",
       "| 89 | 0    | 18   | 107  | 1    | 1    | 0    | 0    | 1    | 0    | 2600 | \n",
       "| 91 | 0    | 21   | 124  | 3    | 0    | 0    | 0    | 0    | 0    | 2622 | \n",
       "\n",
       "\n"
      ],
      "text/plain": [
       "   low age lwt race smoke ptl ht ui ftv bwt \n",
       "85 0   19  182 2    0     0   0  1  0   2523\n",
       "86 0   33  155 3    0     0   0  0  3   2551\n",
       "87 0   20  105 1    1     0   0  0  1   2557\n",
       "88 0   21  108 1    1     0   0  1  2   2594\n",
       "89 0   18  107 1    1     0   0  1  0   2600\n",
       "91 0   21  124 3    0     0   0  0  0   2622"
      ]
     },
     "metadata": {},
     "output_type": "display_data"
    },
    {
     "data": {
      "text/html": [
       "<table>\n",
       "<thead><tr><th></th><th scope=col>low</th><th scope=col>age</th><th scope=col>lwt</th><th scope=col>smoke</th><th scope=col>ptl</th><th scope=col>ht</th><th scope=col>ui</th><th scope=col>ftv</th></tr></thead>\n",
       "<tbody>\n",
       "\t<tr><th scope=row>85</th><td>0  </td><td>19 </td><td>182</td><td>0  </td><td>0  </td><td>0  </td><td>1  </td><td>0  </td></tr>\n",
       "\t<tr><th scope=row>86</th><td>0  </td><td>33 </td><td>155</td><td>0  </td><td>0  </td><td>0  </td><td>0  </td><td>3  </td></tr>\n",
       "\t<tr><th scope=row>87</th><td>0  </td><td>20 </td><td>105</td><td>1  </td><td>0  </td><td>0  </td><td>0  </td><td>1  </td></tr>\n",
       "\t<tr><th scope=row>88</th><td>0  </td><td>21 </td><td>108</td><td>1  </td><td>0  </td><td>0  </td><td>1  </td><td>2  </td></tr>\n",
       "\t<tr><th scope=row>89</th><td>0  </td><td>18 </td><td>107</td><td>1  </td><td>0  </td><td>0  </td><td>1  </td><td>0  </td></tr>\n",
       "\t<tr><th scope=row>91</th><td>0  </td><td>21 </td><td>124</td><td>0  </td><td>0  </td><td>0  </td><td>0  </td><td>0  </td></tr>\n",
       "</tbody>\n",
       "</table>\n"
      ],
      "text/latex": [
       "\\begin{tabular}{r|llllllll}\n",
       "  & low & age & lwt & smoke & ptl & ht & ui & ftv\\\\\n",
       "\\hline\n",
       "\t85 & 0   & 19  & 182 & 0   & 0   & 0   & 1   & 0  \\\\\n",
       "\t86 & 0   & 33  & 155 & 0   & 0   & 0   & 0   & 3  \\\\\n",
       "\t87 & 0   & 20  & 105 & 1   & 0   & 0   & 0   & 1  \\\\\n",
       "\t88 & 0   & 21  & 108 & 1   & 0   & 0   & 1   & 2  \\\\\n",
       "\t89 & 0   & 18  & 107 & 1   & 0   & 0   & 1   & 0  \\\\\n",
       "\t91 & 0   & 21  & 124 & 0   & 0   & 0   & 0   & 0  \\\\\n",
       "\\end{tabular}\n"
      ],
      "text/markdown": [
       "\n",
       "| <!--/--> | low | age | lwt | smoke | ptl | ht | ui | ftv | \n",
       "|---|---|---|---|---|---|\n",
       "| 85 | 0   | 19  | 182 | 0   | 0   | 0   | 1   | 0   | \n",
       "| 86 | 0   | 33  | 155 | 0   | 0   | 0   | 0   | 3   | \n",
       "| 87 | 0   | 20  | 105 | 1   | 0   | 0   | 0   | 1   | \n",
       "| 88 | 0   | 21  | 108 | 1   | 0   | 0   | 1   | 2   | \n",
       "| 89 | 0   | 18  | 107 | 1   | 0   | 0   | 1   | 0   | \n",
       "| 91 | 0   | 21  | 124 | 0   | 0   | 0   | 0   | 0   | \n",
       "\n",
       "\n"
      ],
      "text/plain": [
       "   low age lwt smoke ptl ht ui ftv\n",
       "85 0   19  182 0     0   0  1  0  \n",
       "86 0   33  155 0     0   0  0  3  \n",
       "87 0   20  105 1     0   0  0  1  \n",
       "88 0   21  108 1     0   0  1  2  \n",
       "89 0   18  107 1     0   0  1  0  \n",
       "91 0   21  124 0     0   0  0  0  "
      ]
     },
     "metadata": {},
     "output_type": "display_data"
    }
   ],
   "source": [
    "# Re-create the plot in slide 26 but this time with mother's weight (lwt) instead of age\n",
    "library(MASS)\n",
    "data(birthwt)\n",
    "head(birthwt)\n",
    "birthwt2 <- birthwt[,-c(4,10)]\n",
    "head(birthwt2)"
   ]
  },
  {
   "cell_type": "code",
   "execution_count": 17,
   "metadata": {},
   "outputs": [
    {
     "data": {
      "image/png": "[encoded data removed]",
      "text/plain": [
       "plot without title"
      ]
     },
     "metadata": {},
     "output_type": "display_data"
    }
   ],
   "source": [
    "# Plot of low birthwt against lwt\n",
    "mod <- glm(birthwt2$low ~ birthwt2$lwt, family = binomial)$coef\n",
    "plot(jitter(birthwt2$lwt),birthwt2$low, col = \"red\")\n",
    "points(birthwt2$lwt, 1 / (1 + exp(-(mod[1] + mod[2] * birthwt2$lwt))), pch = 2, col = \"green\")\n"
   ]
  },
  {
   "cell_type": "code",
   "execution_count": null,
   "metadata": {},
   "outputs": [],
   "source": []
  }
 ],
 "metadata": {
  "kernelspec": {
   "display_name": "R",
   "language": "R",
   "name": "ir"
  },
  "language_info": {
   "codemirror_mode": "r",
   "file_extension": ".r",
   "mimetype": "text/x-r-source",
   "name": "R",
   "pygments_lexer": "r",
   "version": "3.5.1"
  }
 },
 "nbformat": 4,
 "nbformat_minor": 2
}
